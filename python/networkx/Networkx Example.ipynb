{
 "cells": [
  {
   "cell_type": "code",
   "execution_count": null,
   "metadata": {},
   "outputs": [],
   "source": [
    "# Creating an undirected graph\n",
    "import networkx as nx\n",
    "G1 = nx.Graph()\n",
    "\n",
    "# Add nodes\n",
    "G1.add_node(1)\n",
    "\n",
    "# Add multiple nodes\n",
    "G1.add_nodes_from([2,3,4])\n",
    "\n",
    "# Add edges\n",
    "G1.add_edge(1,2)\n",
    "G1.add_edge(1,3)\n",
    "\n",
    "# Add multiple edges\n",
    "G1.add_edges_from([(2,3), (3,4)]) \n",
    "\n",
    "# Stats\n",
    "print(\"G1 has \"  + str(G1.number_of_nodes()) + \" nodes\")\n",
    "print(\"G1 has \" + str(G1.number_of_edges()) + \" edges\")\n",
    "\n",
    "# See nodes node 1 is connected to\n",
    "print(\"Nodes node 1 is connected to : \" + str(G1[1]))"
   ]
  },
  {
   "cell_type": "code",
   "execution_count": null,
   "metadata": {},
   "outputs": [],
   "source": [
    "# Visualize graph\n",
    "import matplotlib.pyplot as plt\n",
    "\n",
    "nx.draw(G1, with_labels=True, node_color='y')\n",
    "# nx.draw_random(G1)\n",
    "# nx.draw_circular(G1)\n",
    "# nx.draw_spectral(G1)\n",
    "plt.show()"
   ]
  },
  {
   "cell_type": "code",
   "execution_count": null,
   "metadata": {},
   "outputs": [],
   "source": [
    "# Add attributes to nodes\n",
    "G2 = nx.Graph()\n",
    "G2.add_node(1, gene_exp='5.17')\n",
    "G2.add_node(2, gene_exp='0.53')\n",
    "G2.add_node(3, gene_exp='1.81')\n",
    "G2.add_node(4, gene_exp='7.11')\n",
    "\n",
    "# Add weight to edge\n",
    "G2.add_edge(1, 2, weight=4.7)\n",
    "print(\"Weight of edge(1,2) : \" + str(G2[1][2]))\n",
    "\n",
    "# Update edge weight\n",
    "G2[1][2]['weight'] = 2.9\n",
    "print(\"Updated weight of edge(1,2) : \" + str(G2[1][2]))"
   ]
  },
  {
   "cell_type": "code",
   "execution_count": null,
   "metadata": {},
   "outputs": [],
   "source": [
    "# Creating a directed graph\n",
    "DG=nx.DiGraph()\n",
    "DG.add_weighted_edges_from([(1,2,0.5), (3,1,0.75), (1,4,0.33)]) # (from, to, weight)\n",
    "DG.out_degree(1,weight='weight')\n",
    "DG.degree(1,weight='weight')\n",
    "print(\"Successors of node 1 : \" + str(DG.successors(1)))\n",
    "print(\"Neighbors of node 1 : \" + str(DG.neighbors(1)))\n",
    "print(\"In degree of node 1 : \" +str(DG.in_degree(1)))\n",
    "print(\"Out degree of node 1 : \" +str(DG.out_degree(1)))"
   ]
  },
  {
   "cell_type": "code",
   "execution_count": null,
   "metadata": {},
   "outputs": [],
   "source": [
    "# Visualizing a directed graph\n",
    "import pylab\n",
    "edge_labels=dict([((u,v,),d['weight'])for u,v,d in DG.edges(data=True)])\n",
    "pos=nx.spring_layout(DG)\n",
    "nx.draw_networkx_edge_labels(DG,pos,edge_labels=edge_labels)\n",
    "nx.draw(DG,pos,edge_cmap=plt.cm.Reds, with_labels=True, node_color='y')\n",
    "pylab.show()"
   ]
  },
  {
   "cell_type": "code",
   "execution_count": null,
   "metadata": {
    "collapsed": true
   },
   "outputs": [],
   "source": []
  }
 ],
 "metadata": {
  "kernelspec": {
   "display_name": "Python 2",
   "language": "python",
   "name": "python2"
  },
  "language_info": {
   "codemirror_mode": {
    "name": "ipython",
    "version": 2
   },
   "file_extension": ".py",
   "mimetype": "text/x-python",
   "name": "python",
   "nbconvert_exporter": "python",
   "pygments_lexer": "ipython2",
   "version": "2.7.13"
  }
 },
 "nbformat": 4,
 "nbformat_minor": 2
}
